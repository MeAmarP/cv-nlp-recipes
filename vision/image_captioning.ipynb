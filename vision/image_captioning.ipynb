{
 "cells": [
  {
   "cell_type": "markdown",
   "id": "dbb4a72a",
   "metadata": {},
   "source": [
    "# Image Captioning with BLIP and Flickr8k"
   ]
  },
  {
   "cell_type": "markdown",
   "id": "09d06169",
   "metadata": {},
   "source": [
    "This notebook demonstrates how to caption images using Hugging Face \n",
    "libraries with the **BLIP base** model on the Flickr8k dataset.\n",
    "We load the data, split it into train/validation/test, generate captions, \n",
    "and evaluate with the BLEU metric."
   ]
  },
  {
   "cell_type": "code",
   "execution_count": null,
   "id": "260197a2",
   "metadata": {},
   "outputs": [],
   "source": [
    "# !pip install -q transformers datasets torchvision torch matplotlib evaluate\n",
    "!pip install -q datasets"
   ]
  },
  {
   "cell_type": "markdown",
   "id": "f83f692b",
   "metadata": {},
   "source": [
    "## Load the Flickr8k Dataset"
   ]
  },
  {
   "cell_type": "code",
   "execution_count": null,
   "id": "29feca7a",
   "metadata": {},
   "outputs": [],
   "source": [
    "from datasets import load_dataset\n",
    "\n",
    "flickr8k = load_dataset(\"jxie/flickr8k\")\n",
    "\n",
    "train_ds = flickr8k['train']\n",
    "val_ds = flickr8k['validation']\n",
    "test_ds = flickr8k['test']\n",
    "print(f\"Train split: {len(train_ds)} instances\")\n",
    "print(f\"Validation split: {len(val_ds)} instances\")\n",
    "print(f\"Test split: {len(test_ds)} instances\")\n"
   ]
  },
  {
   "cell_type": "code",
   "execution_count": null,
   "id": "bc99b10b",
   "metadata": {},
   "outputs": [],
   "source": [
    "import random\n",
    "\n",
    "import matplotlib.pyplot as plt\n",
    "\n",
    "fig, axes = plt.subplots(2, 2, figsize=(10, 10))\n",
    "indices = random.sample(range(len(train_ds)), 4)\n",
    "\n",
    "for ax, idx in zip(axes.flatten(), indices):\n",
    "    example = train_ds[idx]\n",
    "    img = Image.open(example['image']).convert('RGB')\n",
    "    ax.imshow(img)\n",
    "    ax.set_title(example['text'])\n",
    "    ax.axis('off')\n",
    "\n",
    "plt.tight_layout()\n",
    "plt.show()"
   ]
  },
  {
   "cell_type": "markdown",
   "id": "4efd92df",
   "metadata": {},
   "source": [
    "## Generate Captions with BLIP base"
   ]
  },
  {
   "cell_type": "code",
   "execution_count": null,
   "id": "646fc6bd",
   "metadata": {},
   "outputs": [],
   "source": [
    "from transformers import BlipProcessor, BlipForConditionalGeneration\n",
    "from PIL import Image\n",
    "import torch\n",
    "\n",
    "processor = BlipProcessor.from_pretrained('Salesforce/blip-image-captioning-base')\n",
    "model = BlipForConditionalGeneration.from_pretrained('Salesforce/blip-image-captioning-base')\n",
    "\n",
    "device = 'cuda' if torch.cuda.is_available() else 'cpu'\n",
    "model.to(device)\n",
    "\n",
    "example = train_ds[0]\n",
    "img = Image.open(example['image']).convert('RGB')\n",
    "inputs = processor(images=img, return_tensors=\"pt\").to(device)\n",
    "with torch.no_grad():\n",
    "    out = model.generate(**inputs)\n",
    "caption = processor.decode(out[0], skip_special_tokens=True)\n",
    "print('Caption:', caption)\n"
   ]
  },
  {
   "cell_type": "markdown",
   "metadata": {},
   "source": [
    "## Evaluate the Model"
   ]
  },
  {
   "cell_type": "code",
   "execution_count": null,
   "metadata": {},
   "outputs": [],
   "source": [
    "import evaluate\n",
    "import matplotlib.pyplot as plt\n",
    "\n",
    "bleu = evaluate.load('bleu')\n",
    "\n",
    "def generate_caption(img_path):\n",
    "    img = Image.open(img_path).convert(\"RGB\")\n",
    "    inputs = processor(images=img, return_tensors=\"pt\").to(device)\n",
    "    with torch.no_grad():\n",
    "        out = model.generate(**inputs)\n",
    "    return processor.decode(out[0], skip_special_tokens=True)\n",
    "\n",
    "preds, refs = [], []\n",
    "for ex in test_ds.select(range(100)):\n",
    "    preds.append(generate_caption(ex['image']))\n",
    "    refs.append([ex['text']])\n",
    "\n",
    "result = bleu.compute(predictions=preds, references=refs)\n",
    "print(\"BLEU:\", result[\"bleu\"])\n",
    "\n",
    "plt.bar([\"BLEU\"], [result[\"bleu\"]])\n",
    "plt.ylim(0,1)\n",
    "plt.title(\"BLEU score on Flickr8k test set\")\n",
    "plt.show()\n"
   ]
  }
 ],
 "metadata": {
  "kernelspec": {
   "display_name": "myenv",
   "language": "python",
   "name": "python3"
  },
  "language_info": {
   "codemirror_mode": {
    "name": "ipython",
    "version": 3
   },
   "file_extension": ".py",
   "mimetype": "text/x-python",
   "name": "python",
   "nbconvert_exporter": "python",
   "pygments_lexer": "ipython3",
   "version": "3.10.13"
  }
 },
 "nbformat": 4,
 "nbformat_minor": 5
}
